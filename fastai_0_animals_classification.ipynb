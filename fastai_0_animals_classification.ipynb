{
  "nbformat": 4,
  "nbformat_minor": 0,
  "metadata": {
    "colab": {
      "name": "fastai_try_0.ipynb",
      "provenance": [],
      "private_outputs": true,
      "collapsed_sections": [],
      "toc_visible": true
    },
    "kernelspec": {
      "name": "python3",
      "display_name": "Python 3"
    },
    "accelerator": "GPU"
  },
  "cells": [
    {
      "cell_type": "code",
      "metadata": {
        "id": "5UlHddaWMdV-"
      },
      "source": [
        "# fastai setup\n",
        "!pip install -Uqq fastbook\n",
        "import fastbook\n",
        "fastbook.setup_book()\n",
        "from fastbook import *"
      ],
      "execution_count": null,
      "outputs": []
    },
    {
      "cell_type": "markdown",
      "metadata": {
        "id": "lKiIoA8wlYhV"
      },
      "source": [
        "Put folder 'animals' on google drive first.Subfolders should contains animals images, for example 'animals/cat', 'animals/horse', etc."
      ]
    },
    {
      "cell_type": "code",
      "metadata": {
        "id": "UKTPgCfcNGOH"
      },
      "source": [
        "# training image classification\n",
        "from fastai.vision.all import *\n",
        "\n",
        "path = '/content/gdrive/My Drive/animals'\n",
        "\n",
        "fnames = get_image_files(path)\n",
        "def label_func(x): return x.parent.name\n",
        "\n",
        "dls = ImageDataLoaders.from_path_func(path, fnames, label_func, valid_pct=0.15, seed=5, item_tfms=Resize(224), batch_tfms=None, bs=6)\n",
        "\n",
        "learn = cnn_learner(dls, resnet34, metrics=error_rate)\n",
        "learn.fine_tune(1)"
      ],
      "execution_count": null,
      "outputs": []
    },
    {
      "cell_type": "code",
      "metadata": {
        "id": "pToC7FSNNKrM"
      },
      "source": [
        ""
      ],
      "execution_count": null,
      "outputs": []
    },
    {
      "cell_type": "markdown",
      "metadata": {
        "id": "IF7nJ_FIlz5M"
      },
      "source": [
        "Lets test model using FileUpload widget"
      ]
    },
    {
      "cell_type": "code",
      "metadata": {
        "id": "jV6S7fQdbMJs"
      },
      "source": [
        "uploader = widgets.FileUpload()\n",
        "uploader"
      ],
      "execution_count": null,
      "outputs": []
    },
    {
      "cell_type": "code",
      "metadata": {
        "id": "NWoKTgD0mGNH"
      },
      "source": [
        "img = PILImage.create(uploader.data[0])\n",
        "full_dec,dec,out = learn.predict(img)\n",
        "print(full_dec, dec, out)"
      ],
      "execution_count": null,
      "outputs": []
    },
    {
      "cell_type": "code",
      "metadata": {
        "id": "Yc-t6ejgbNVx"
      },
      "source": [
        ""
      ],
      "execution_count": null,
      "outputs": []
    }
  ]
}